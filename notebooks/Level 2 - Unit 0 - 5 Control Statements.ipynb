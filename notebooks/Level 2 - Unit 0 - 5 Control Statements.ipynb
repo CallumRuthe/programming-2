{
 "cells": [
  {
   "cell_type": "markdown",
   "metadata": {},
   "source": [
    "# Control Statements\n",
    "\n",
    "![Hello!](https://media.giphy.com/media/ASd0Ukj0y3qMM/giphy.gif)"
   ]
  },
  {
   "cell_type": "markdown",
   "metadata": {},
   "source": [
    "# Skills\n",
    "* understand if statements\n",
    "* understand why we use elif instead of else in some cases"
   ]
  },
  {
   "cell_type": "markdown",
   "metadata": {},
   "source": [
    "## `if` statements\n",
    "We can branch code using contr\n",
    "ol statements.  \n",
    "We can do that using `if` statements.\n",
    "\n",
    "![Branching from https://programarcadegames.com](http://programarcadegames.com/chapters/03_if_statements/flowchart1_thumb.png)"
   ]
  },
  {
   "cell_type": "code",
   "execution_count": 28,
   "metadata": {
    "tags": []
   },
   "outputs": [
    {
     "name": "stdin",
     "output_type": "stream",
     "text": [
      "First Value:  1\n",
      "Second Value:  1\n"
     ]
    }
   ],
   "source": [
    "# ask the user for two values:\n",
    "# floats are decimal numbers\n",
    "# cast numbers as floats or ints\n",
    "a = float(input('First Value: '))\n",
    "b = float(input('Second Value: '))\n",
    "\n",
    "if a < b:\n",
    "    print(\"a is less than b\")\n",
    "if b < a:\n",
    "    print(\"b is less than a\")\n",
    "    print(\"Done\")"
   ]
  },
  {
   "cell_type": "markdown",
   "metadata": {},
   "source": [
    "## `elif` and `else` "
   ]
  },
  {
   "cell_type": "code",
   "execution_count": 1,
   "metadata": {},
   "outputs": [
    {
     "name": "stdin",
     "output_type": "stream",
     "text": [
      "Enter a number:  101\n"
     ]
    },
    {
     "name": "stdout",
     "output_type": "stream",
     "text": [
      "x is greater than 100\n"
     ]
    }
   ],
   "source": [
    "# get input from user\n",
    "x = float(input('Enter a number: '))\n",
    "\n",
    "if x > 100:\n",
    "    print(\"x is greater than 100\")\n",
    "elif x > 50:\n",
    "    print(\"x is greater than 50\")\n",
    "elif x > 25:\n",
    "    print(\"x is greater than 25\")\n",
    "else:\n",
    "    print(\"x is less than or equal to 25\")"
   ]
  },
  {
   "cell_type": "markdown",
   "metadata": {},
   "source": [
    "## Booleans\n",
    "\n",
    "**Booleans** are a _**datatype**_.  \n",
    "They are either `True` or `False` in Python.\n",
    "\n",
    "Note:  \n",
    "Know the distinction between `'True'` and `True`  \n",
    "and equally `'False'` and `False`"
   ]
  },
  {
   "cell_type": "markdown",
   "metadata": {},
   "source": [
    "### _Aside: Checking Data Types_\n",
    "\n",
    "If you want to check the type of data, use, the function `type()`."
   ]
  },
  {
   "cell_type": "code",
   "execution_count": 27,
   "metadata": {},
   "outputs": [],
   "source": [
    "# type(False)\n",
    "# type(\"False\")"
   ]
  },
  {
   "cell_type": "code",
   "execution_count": 26,
   "metadata": {},
   "outputs": [
    {
     "name": "stdout",
     "output_type": "stream",
     "text": [
      "This will print out.\n"
     ]
    }
   ],
   "source": [
    "# gotchas of if statements\n",
    "if \"hello\":\n",
    "    print(\"This will print out.\")\n",
    "    \n",
    "# Anything that is not the following:\n",
    "#     0\n",
    "#     None\n",
    "#     False\n",
    "#     \"\"\n",
    "# IS TRUE"
   ]
  },
  {
   "cell_type": "markdown",
   "metadata": {},
   "source": [
    "## Boolean Expressions\n",
    "\n",
    "Boolean expressions are operations that evaluate to booleans."
   ]
  },
  {
   "cell_type": "code",
   "execution_count": 31,
   "metadata": {},
   "outputs": [
    {
     "data": {
      "text/plain": [
       "True"
      ]
     },
     "execution_count": 31,
     "metadata": {},
     "output_type": "execute_result"
    }
   ],
   "source": [
    "3 == 4 # returns True or False\n"
   ]
  },
  {
   "cell_type": "markdown",
   "metadata": {},
   "source": [
    "## Boolean Variables\n",
    "\n",
    "Variables can be booleans as well."
   ]
  },
  {
   "cell_type": "code",
   "execution_count": 33,
   "metadata": {},
   "outputs": [
    {
     "name": "stdout",
     "output_type": "stream",
     "text": [
      "LOL.\n"
     ]
    }
   ],
   "source": [
    "mrubial_is_cool = False\n",
    "\n",
    "\n",
    "if mrubial_is_cool:\n",
    "    print(\"He's so cool.\")\n",
    "else:\n",
    "    print(\"LOL.\")"
   ]
  },
  {
   "cell_type": "markdown",
   "metadata": {},
   "source": [
    "## Boolean Operators\n",
    "\n",
    "### Using `not`\n",
    "`not` is a unary operator  \n",
    "You only need **one operand**."
   ]
  },
  {
   "cell_type": "code",
   "execution_count": 35,
   "metadata": {},
   "outputs": [
    {
     "name": "stdout",
     "output_type": "stream",
     "text": [
      "Lulz.\n"
     ]
    }
   ],
   "source": [
    "mrubial_is_cool = False\n",
    "if not mrubial_is_cool:\n",
    "    print(\"Lulz.\")"
   ]
  },
  {
   "cell_type": "code",
   "execution_count": 36,
   "metadata": {},
   "outputs": [
    {
     "name": "stdout",
     "output_type": "stream",
     "text": [
      "You will probably want an umbrella.\n"
     ]
    }
   ],
   "source": [
    "sunny = False\n",
    "\n",
    "if not sunny:\n",
    "    print(\"You will probably want an umbrella.\")"
   ]
  },
  {
   "cell_type": "markdown",
   "metadata": {},
   "source": [
    "### Using `and` and `or`\n",
    "`and` and `or` are binary operators.  \n",
    "You need **two operands** to use them."
   ]
  },
  {
   "cell_type": "code",
   "execution_count": 40,
   "metadata": {},
   "outputs": [
    {
     "name": "stdout",
     "output_type": "stream",
     "text": [
      "Mr. Ubial is happy.\n"
     ]
    }
   ],
   "source": [
    "likes_to_play_got_of_war = True\n",
    "has_ps5 = True\n",
    "\n",
    "# and needs too have both sides true\n",
    "# for the whole expression to be true\n",
    "if likes_to_play_got_of_war and has_ps5:\n",
    "    print(\"Mr. Ubial is happy.\")\n",
    "else:\n",
    "    print(\"Mr. Ubial is not a happy man.\")"
   ]
  },
  {
   "cell_type": "code",
   "execution_count": 44,
   "metadata": {},
   "outputs": [
    {
     "name": "stdout",
     "output_type": "stream",
     "text": [
      "You're ready to fight.\n"
     ]
    }
   ],
   "source": [
    "have_axe = True\n",
    "have_bow = False\n",
    "\n",
    "# with or, at least one of the operans \n",
    "# needs to be true in order for the whole \n",
    "# expression to be true\n",
    "if have_axe or have_bow:\n",
    "    print(\"You're ready to fight.\")\n",
    "else:\n",
    "    print(\"You should probably be more prepared\")\n",
    "    \n",
    "\n",
    "# Do you like Star Wars or Star Trek?\n",
    "# Yes"
   ]
  },
  {
   "cell_type": "markdown",
   "metadata": {},
   "source": [
    "---\n",
    "# Practice Questions"
   ]
  },
  {
   "cell_type": "markdown",
   "metadata": {},
   "source": [
    "## 1. What's missing from this code?"
   ]
  },
  {
   "cell_type": "code",
   "execution_count": 45,
   "metadata": {},
   "outputs": [
    {
     "name": "stdin",
     "output_type": "stream",
     "text": [
      "Temperature:  100\n"
     ]
    },
    {
     "name": "stdout",
     "output_type": "stream",
     "text": [
      "It is hot outside.\n"
     ]
    }
   ],
   "source": [
    "temperature = int(input(f'Temperature: '))\n",
    "if temperature > 90:\n",
    "    print(f'It is hot outside.')\n",
    "else:\n",
    "    print(f'It is not hot out.')"
   ]
  },
  {
   "cell_type": "markdown",
   "metadata": {},
   "source": [
    "## 2. What do you think this next code will print out?\n",
    "**Before you run the code,** take your best guess as to what it will print out.  \n",
    "Put your guess here: \n",
    "\n",
    "x=5\n",
    "y=False\n",
    "z=True\n",
    "Buzz"
   ]
  },
  {
   "cell_type": "code",
   "execution_count": 46,
   "metadata": {},
   "outputs": [
    {
     "name": "stdout",
     "output_type": "stream",
     "text": [
      "x=5\n",
      "y=False\n",
      "z=True\n",
      "Buzz\n"
     ]
    }
   ],
   "source": [
    "x = 5\n",
    "y = x == 6\n",
    "z = x == 5\n",
    "print(f'x={x}')   \n",
    "print(f'y={y}')    \n",
    "print(f'z={z}')    \n",
    "if y:\n",
    "    print(f'Fizz') \n",
    "if z:\n",
    "    print(f'Buzz')"
   ]
  },
  {
   "cell_type": "markdown",
   "metadata": {},
   "source": [
    "## 3. What do you think this code will print out?\n",
    "Again, **take an educated guess before running the code.**  \n",
    "Put your answers in inline comments beside the line of code.  \n",
    "There's an example below.\n",
    "If you're guess isn't right, try and figure out why it outputs what it does."
   ]
  },
  {
   "cell_type": "code",
   "execution_count": 52,
   "metadata": {},
   "outputs": [
    {
     "name": "stdout",
     "output_type": "stream",
     "text": [
      "True\n",
      "False\n",
      "True\n",
      "True\n",
      "True\n",
      "False\n",
      "False\n",
      "True\n"
     ]
    },
    {
     "ename": "TypeError",
     "evalue": "'<' not supported between instances of 'int' and 'str'",
     "output_type": "error",
     "traceback": [
      "\u001b[0;31m---------------------------------------------------------------------------\u001b[0m",
      "\u001b[0;31mTypeError\u001b[0m                                 Traceback (most recent call last)",
      "\u001b[0;32m<ipython-input-52-2dc81e2fef29>\u001b[0m in \u001b[0;36m<module>\u001b[0;34m\u001b[0m\n\u001b[1;32m      7\u001b[0m \u001b[0mprint\u001b[0m\u001b[0;34m(\u001b[0m \u001b[0;34m(\u001b[0m\u001b[0;36m2\u001b[0m \u001b[0;34m==\u001b[0m \u001b[0;36m2\u001b[0m\u001b[0;34m)\u001b[0m \u001b[0;34m==\u001b[0m \u001b[0;34m\"True\"\u001b[0m \u001b[0;34m)\u001b[0m \u001b[0;31m# False\u001b[0m\u001b[0;34m\u001b[0m\u001b[0;34m\u001b[0m\u001b[0m\n\u001b[1;32m      8\u001b[0m \u001b[0mprint\u001b[0m\u001b[0;34m(\u001b[0m \u001b[0;34m(\u001b[0m\u001b[0;36m2\u001b[0m \u001b[0;34m==\u001b[0m \u001b[0;36m2\u001b[0m\u001b[0;34m)\u001b[0m \u001b[0;34m==\u001b[0m \u001b[0;32mTrue\u001b[0m \u001b[0;34m)\u001b[0m   \u001b[0;31m# True\u001b[0m\u001b[0;34m\u001b[0m\u001b[0;34m\u001b[0m\u001b[0m\n\u001b[0;32m----> 9\u001b[0;31m \u001b[0mprint\u001b[0m\u001b[0;34m(\u001b[0m\u001b[0;36m3\u001b[0m \u001b[0;34m<\u001b[0m \u001b[0;34m\"3\"\u001b[0m\u001b[0;34m)\u001b[0m              \u001b[0;31m# False  x (Error: incompatible oprerand between string and int)\u001b[0m\u001b[0;34m\u001b[0m\u001b[0;34m\u001b[0m\u001b[0m\n\u001b[0m",
      "\u001b[0;31mTypeError\u001b[0m: '<' not supported between instances of 'int' and 'str'"
     ]
    }
   ],
   "source": [
    "print(\"3\" == \"3\")           # True   \n",
    "print(\" 3\" == \"3\")          # False\n",
    "print(3 < 4)                # True\n",
    "print(3 < 10)               # True\n",
    "print(\"3\" < \"4\")            # False  x (When checking strings, it checks first value: 3 < 4, prints True)\n",
    "print(\"3\" < \"10\")           # False    (Checks: 3 < 1, prints False)\n",
    "print( (2 == 2) == \"True\" ) # False\n",
    "print( (2 == 2) == True )   # True   \n",
    "print(3 < \"3\")              # False  x (Error: incompatible oprerand between string and int)"
   ]
  },
  {
   "cell_type": "markdown",
   "metadata": {},
   "source": [
    "---\n",
    "# Exercise\n",
    "\n",
    "Create your own quiz with five or more questions. You can ask questions that require:\n",
    "1. a number as an answer (e.g., What is 1+1?)\n",
    "2. text (e.g. What is Harry Potter's last name?)\n",
    "3. a selection (Which of these choices are correct? A, B, or C?) \n",
    "\n",
    "If you have the user enter non-numeric answers, think and cover the different ways a user could enter a correct answer. For example, if the answer is “a”, would “A” also be acceptable? \n",
    "1. Let the user know if he or she gets the question correct. Print a message depending on the user's answer.\n",
    "2. You need to keep track of how many questions they get correct.\n",
    "3. At the end of the program print the percentage of questions the user gets right. "
   ]
  },
  {
   "cell_type": "markdown",
   "metadata": {},
   "source": [
    "# Requirements\n",
    "Create a new Python file.\n",
    "\n",
    "* Has five or more questions \n",
    "* Give the user feedback per question \n",
    "* Keep track of correct answers\n",
    "* Give them their outcome at the end\n",
    "* Should follow *style guidelines* for naming of variables and use of whitespace -- **READABILITY**"
   ]
  },
  {
   "cell_type": "code",
   "execution_count": 111,
   "metadata": {},
   "outputs": [
    {
     "name": "stdout",
     "output_type": "stream",
     "text": [
      "Hello! My name is M4th Tut0r.\n",
      "My job is to test your mathematical ability.\n",
      "\n"
     ]
    },
    {
     "name": "stdin",
     "output_type": "stream",
     "text": [
      "Are you ready to begin the quiz:  yes\n"
     ]
    },
    {
     "name": "stdout",
     "output_type": "stream",
     "text": [
      "\n",
      "Perfect. We will now begin the quiz!\n",
      "\n",
      "Question 1: \n",
      "What is: 7 + 4 \n",
      " \n",
      "\n"
     ]
    },
    {
     "name": "stdin",
     "output_type": "stream",
     "text": [
      "A: 13\n"
     ]
    },
    {
     "name": "stdout",
     "output_type": "stream",
     "text": [
      "\n",
      "\n",
      "Unfortunately that is not correct. The correct answer was: 11 \n",
      "Better luck with the next question.\n",
      "\n",
      "Question 2: \n",
      "What is the 11th prime number \n",
      " \n",
      "\n"
     ]
    },
    {
     "name": "stdin",
     "output_type": "stream",
     "text": [
      "A: 134\n"
     ]
    },
    {
     "name": "stdout",
     "output_type": "stream",
     "text": [
      "\n",
      "\n",
      "Unfortunately that is not correct. The correct answer was: 31 \n",
      "Better luck with the next question.\n",
      "\n",
      "Question 3: \n",
      "What is: (31 + 14) * 3 / 5 \n",
      " \n",
      "\n"
     ]
    },
    {
     "name": "stdin",
     "output_type": "stream",
     "text": [
      "A: 134\n"
     ]
    },
    {
     "name": "stdout",
     "output_type": "stream",
     "text": [
      "\n",
      "\n",
      "Unfortunately that is not correct. The correct answer was: 27 \n",
      "Better luck with the next question.\n",
      "\n",
      "Question 4: \n",
      "Which of the following numbers are Mersenne Prime's: \n",
      "a) 8191 \n",
      "b) 31 \n",
      "c) a and b \n",
      "d) 2048 \n",
      " \n",
      "\n"
     ]
    },
    {
     "name": "stdin",
     "output_type": "stream",
     "text": [
      "A: 314\n"
     ]
    },
    {
     "name": "stdout",
     "output_type": "stream",
     "text": [
      "\n",
      "\n",
      "Unfortunately that is not correct. The correct answer was: c \n",
      "Better luck with the next question.\n",
      "\n",
      "Question 5: \n",
      "What is the full name of the person which the pythagorean theorem is named after? \n",
      " \n",
      "\n"
     ]
    },
    {
     "name": "stdin",
     "output_type": "stream",
     "text": [
      "A: 143\n"
     ]
    },
    {
     "name": "stdout",
     "output_type": "stream",
     "text": [
      "\n",
      "\n",
      "Unfortunately that is not correct. The correct answer was: Pythagoras of Samos \n",
      "Better luck with the next question.\n",
      "\n",
      "Congratulations! You have completed the quiz with 0/5 questions correct.\n"
     ]
    }
   ],
   "source": [
    "# Math Quiz\n",
    "\n",
    "import sys\n",
    "\n",
    "# Create a counter to keep track of score\n",
    "correct_answers = 0\n",
    "\n",
    "# Create variable for each question\n",
    "question_one = \"What is: 7 + 4 \\n\"\n",
    "question_two = \"What is the 11th prime number \\n\"\n",
    "question_three = \"What is: (31 + 14) * 3 / 5 \\n\"\n",
    "question_four = \"Which of the following numbers are Mersenne Prime's: \\na) 8191 \\nb) 31 \\nc) a and b \\nd) 2048 \\n\"\n",
    "question_five = \"What is the full name of the person which the pythagorean theorem is named after? \\n\"\n",
    "\n",
    "questions = [question_one, question_two, question_three, question_four, question_five]\n",
    "\n",
    "# Create a dictionary containing the answer to each question\n",
    "answers = {\n",
    "    \"question_1\": \"11\",\n",
    "    \"question_2\": \"31\",\n",
    "    \"question_3\": \"27\",\n",
    "    \"question_4\": \"c\",\n",
    "    \"question_5\": \"Pythagoras of Samos\",\n",
    "}\n",
    "\n",
    "# Introduce the user to the quiz\n",
    "print(\"Hello! My name is M4th Tut0r.\\nMy job is to test your mathematical ability.\\n\")\n",
    "\n",
    "# Find out if the user is ready to begin\n",
    "user_ready = input(\"Are you ready to begin the quiz: \")\n",
    "\n",
    "# If the user is not ready to start, power down. Otherwise continue to the quiz.\n",
    "if user_ready.lower() == \"no\":\n",
    "    print(\"\\nPowering Down\")\n",
    "    sys.exit()\n",
    "elif user_ready.lower() == \"yes\":\n",
    "    print(\"\\nPerfect. We will now begin the quiz!\\n\")\n",
    "else:\n",
    "    print(\"\\nIncomputable. Self destruct sequence initiating.\")\n",
    "    for i in range(10, 0, -1):\n",
    "        print(i)\n",
    "    print(\"Goodbye user\")\n",
    "    sys.exit()\n",
    "\n",
    "\n",
    "question_number = 0\n",
    "\n",
    "# For each question\n",
    "for q in questions:\n",
    "    # Ask a question and get the user response\n",
    "    question_number += 1\n",
    "    print(f\"Question {question_number}: \")\n",
    "    print(q,\"\\n\")\n",
    "    response = input(\"A:\")\n",
    "    print(\"\\n\")\n",
    "\n",
    "    answer = answers[f\"question_{question_number}\"]\n",
    "    # Inform the user if they got the question right or wrong\n",
    "    # If they got the question right, add to their score\n",
    "    # Give feedback based on how they did on the question\n",
    "    if response == answer:\n",
    "        print(\"That's correct. Good Job!\\n\")\n",
    "        correct_answers += 1\n",
    "    else:\n",
    "        print(f\"Unfortunately that is not correct. The correct answer was: {answer} \\nBetter luck with the next question.\\n\")\n",
    "\n",
    "# Congratulate the user and tell them how many questionts they got correct\n",
    "print(f\"Congratulations! You have completed the quiz with {correct_answers}/5 questions correct.\")\n"
   ]
  },
  {
   "cell_type": "code",
   "execution_count": null,
   "metadata": {},
   "outputs": [],
   "source": []
  }
 ],
 "metadata": {
  "kernelspec": {
   "display_name": "Python 3",
   "language": "python",
   "name": "python3"
  },
  "language_info": {
   "codemirror_mode": {
    "name": "ipython",
    "version": 3
   },
   "file_extension": ".py",
   "mimetype": "text/x-python",
   "name": "python",
   "nbconvert_exporter": "python",
   "pygments_lexer": "ipython3",
   "version": "3.8.2"
  }
 },
 "nbformat": 4,
 "nbformat_minor": 4
}
